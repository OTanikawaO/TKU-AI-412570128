{
  "nbformat": 4,
  "nbformat_minor": 0,
  "metadata": {
    "colab": {
      "provenance": [],
      "authorship_tag": "ABX9TyP+KO0BnuSsyobRGDuwEQK3",
      "include_colab_link": true
    },
    "kernelspec": {
      "name": "python3",
      "display_name": "Python 3"
    },
    "language_info": {
      "name": "python"
    }
  },
  "cells": [
    {
      "cell_type": "markdown",
      "metadata": {
        "id": "view-in-github",
        "colab_type": "text"
      },
      "source": [
        "<a href=\"https://colab.research.google.com/github/OTanikawaO/TKU-AI-412570128/blob/main/1205.ipynb\" target=\"_parent\"><img src=\"https://colab.research.google.com/assets/colab-badge.svg\" alt=\"Open In Colab\"/></a>"
      ]
    },
    {
      "cell_type": "code",
      "execution_count": 51,
      "metadata": {
        "colab": {
          "base_uri": "https://localhost:8080/"
        },
        "id": "ooxg4yXhVynF",
        "outputId": "3a99a6ff-80e2-472e-926b-e1c4785981e1"
      },
      "outputs": [
        {
          "output_type": "stream",
          "name": "stdout",
          "text": [
            "Hi\n"
          ]
        }
      ],
      "source": [
        "print(\"Hi\")"
      ]
    },
    {
      "cell_type": "code",
      "source": [
        "a = input(\"請輸入一個數字\")"
      ],
      "metadata": {
        "colab": {
          "base_uri": "https://localhost:8080/"
        },
        "id": "9eHECbbeWNbe",
        "outputId": "8e1aecdf-8110-4de7-9ba1-65dd8e7c17d9"
      },
      "execution_count": 11,
      "outputs": [
        {
          "name": "stdout",
          "output_type": "stream",
          "text": [
            "請輸入一個數字2004\n"
          ]
        }
      ]
    },
    {
      "cell_type": "code",
      "source": [
        "print(type(a))"
      ],
      "metadata": {
        "colab": {
          "base_uri": "https://localhost:8080/"
        },
        "id": "Z3LZwYuoWNBz",
        "outputId": "6e504ec4-af7c-4863-928b-17837499bca6"
      },
      "execution_count": 12,
      "outputs": [
        {
          "output_type": "stream",
          "name": "stdout",
          "text": [
            "<class 'str'>\n"
          ]
        }
      ]
    },
    {
      "cell_type": "code",
      "source": [
        "int(a)"
      ],
      "metadata": {
        "colab": {
          "base_uri": "https://localhost:8080/"
        },
        "id": "-mhMe7gZXAun",
        "outputId": "1a5e130d-9939-4df9-eb4c-516e0bd5854c"
      },
      "execution_count": 13,
      "outputs": [
        {
          "output_type": "execute_result",
          "data": {
            "text/plain": [
              "2004"
            ]
          },
          "metadata": {},
          "execution_count": 13
        }
      ]
    },
    {
      "cell_type": "code",
      "source": [
        "b = int(input(\"請輸入一個數字\"))"
      ],
      "metadata": {
        "colab": {
          "base_uri": "https://localhost:8080/"
        },
        "id": "YUbQxHchXQSy",
        "outputId": "e58cab7f-e075-4936-8c39-d32c00ec938c"
      },
      "execution_count": 15,
      "outputs": [
        {
          "name": "stdout",
          "output_type": "stream",
          "text": [
            "請輸入一個數字1019\n"
          ]
        }
      ]
    },
    {
      "cell_type": "code",
      "source": [
        "b + 1"
      ],
      "metadata": {
        "colab": {
          "base_uri": "https://localhost:8080/"
        },
        "id": "TUaTXyg2Xd1J",
        "outputId": "784e03ea-9b0a-4a26-cf99-55b2552dab1d"
      },
      "execution_count": 16,
      "outputs": [
        {
          "output_type": "execute_result",
          "data": {
            "text/plain": [
              "1020"
            ]
          },
          "metadata": {},
          "execution_count": 16
        }
      ]
    },
    {
      "cell_type": "code",
      "source": [
        "國文成績 = int(input(\"請輸入國文成績\"))\n",
        "英文成績 = int(input(\"請輸入英文成績\"))\n",
        "數學成績 = int(input(\"請輸入數學成績\"))\n",
        "成績總分 = 國文成績 + 英文成績 + 數學成績\n",
        "print(\"成績總分為:\",成績總分,sep=\"\\n\")"
      ],
      "metadata": {
        "colab": {
          "base_uri": "https://localhost:8080/"
        },
        "outputId": "b66017f4-f3f0-46e9-fabc-912a305111fd",
        "id": "WOQSJzDJYl1k"
      },
      "execution_count": 17,
      "outputs": [
        {
          "output_type": "stream",
          "name": "stdout",
          "text": [
            "請輸入國文成績50\n",
            "請輸入英文成績60\n",
            "請輸入數學成績70\n",
            "成績總分為:\n",
            "180\n"
          ]
        }
      ]
    },
    {
      "cell_type": "code",
      "source": [
        "12+3"
      ],
      "metadata": {
        "id": "pvoHoL4NXyKB",
        "colab": {
          "base_uri": "https://localhost:8080/"
        },
        "outputId": "27431a22-b53e-4f09-8f9c-76b5da03899c"
      },
      "execution_count": 1,
      "outputs": [
        {
          "output_type": "execute_result",
          "data": {
            "text/plain": [
              "15"
            ]
          },
          "metadata": {},
          "execution_count": 1
        }
      ]
    },
    {
      "cell_type": "code",
      "source": [
        "12-3"
      ],
      "metadata": {
        "id": "amcDSAwxYe2I",
        "colab": {
          "base_uri": "https://localhost:8080/"
        },
        "outputId": "d6b0340e-5c87-4a7a-f3b8-bbeed12e90cd"
      },
      "execution_count": 2,
      "outputs": [
        {
          "output_type": "execute_result",
          "data": {
            "text/plain": [
              "9"
            ]
          },
          "metadata": {},
          "execution_count": 2
        }
      ]
    },
    {
      "cell_type": "code",
      "source": [
        "12*3"
      ],
      "metadata": {
        "id": "a_UbtMrCae5X",
        "colab": {
          "base_uri": "https://localhost:8080/"
        },
        "outputId": "15d3fa53-bb16-41e6-d806-205ff14ef4e0"
      },
      "execution_count": 3,
      "outputs": [
        {
          "output_type": "execute_result",
          "data": {
            "text/plain": [
              "36"
            ]
          },
          "metadata": {},
          "execution_count": 3
        }
      ]
    },
    {
      "cell_type": "code",
      "source": [
        "32/5"
      ],
      "metadata": {
        "id": "is7BlKarafJk",
        "colab": {
          "base_uri": "https://localhost:8080/"
        },
        "outputId": "0623aa24-a598-4641-c394-38a0db88911f"
      },
      "execution_count": 4,
      "outputs": [
        {
          "output_type": "execute_result",
          "data": {
            "text/plain": [
              "6.4"
            ]
          },
          "metadata": {},
          "execution_count": 4
        }
      ]
    },
    {
      "cell_type": "code",
      "source": [
        "32%5"
      ],
      "metadata": {
        "colab": {
          "base_uri": "https://localhost:8080/"
        },
        "id": "RzeT4GeYvVmt",
        "outputId": "ab570c0d-f0d1-4bc1-d174-8312d2738978"
      },
      "execution_count": 5,
      "outputs": [
        {
          "output_type": "execute_result",
          "data": {
            "text/plain": [
              "2"
            ]
          },
          "metadata": {},
          "execution_count": 5
        }
      ]
    },
    {
      "cell_type": "code",
      "source": [
        "32//5"
      ],
      "metadata": {
        "colab": {
          "base_uri": "https://localhost:8080/"
        },
        "id": "vt8VylepvVgJ",
        "outputId": "dd24ef66-b235-407a-b669-5927fb8e6275"
      },
      "execution_count": 6,
      "outputs": [
        {
          "output_type": "execute_result",
          "data": {
            "text/plain": [
              "6"
            ]
          },
          "metadata": {},
          "execution_count": 6
        }
      ]
    },
    {
      "cell_type": "code",
      "source": [
        "7**2"
      ],
      "metadata": {
        "colab": {
          "base_uri": "https://localhost:8080/"
        },
        "id": "aofyalLdvVHd",
        "outputId": "1d8d92bf-5c0d-4405-b079-71ec8ee7c570"
      },
      "execution_count": 7,
      "outputs": [
        {
          "output_type": "execute_result",
          "data": {
            "text/plain": [
              "49"
            ]
          },
          "metadata": {},
          "execution_count": 7
        }
      ]
    },
    {
      "cell_type": "code",
      "source": [
        "上底=int(input(\"請輸入梯形的上底長度:\"))\n",
        "下底=int(input(\"請輸入梯形的下底長度:\"))\n",
        "高=int(input(\"請輸入梯形的高度:\"))\n",
        "面積=(上底+下底)*高/2\n",
        "print(\"上底長度為:\",上底,end=' ')\n",
        "print(\"下底長度為:\",下底,end=' ')\n",
        "print(\"高度為:\",高,end=' ')\n",
        "print(\"梯形面積為:\",面積)"
      ],
      "metadata": {
        "colab": {
          "base_uri": "https://localhost:8080/"
        },
        "id": "c47xXu4svfrl",
        "outputId": "464060c9-f596-4b2e-cf06-67c643be54ae"
      },
      "execution_count": 46,
      "outputs": [
        {
          "output_type": "stream",
          "name": "stdout",
          "text": [
            "請輸入梯形的上底長度:3\n",
            "請輸入梯形的下底長度:4\n",
            "請輸入梯形的高度:3\n",
            "上底長度為: 3 下底長度為: 4 高度為: 3 梯形面積為: 10.5\n"
          ]
        }
      ]
    },
    {
      "cell_type": "code",
      "source": [
        "身高=int(input(\"請輸入您的身高(cm):\"))\n",
        "體重=int(input(\"請輸入您的體重(kg):\"))\n",
        "BMI=體重/(身高/100)**2\n",
        "print(\"身高\",身高,\"公分\",end=', ')\n",
        "print(\"體重\",體重,\"公斤\",end=', ')\n",
        "print(\"BMI值為:\",BMI)"
      ],
      "metadata": {
        "colab": {
          "base_uri": "https://localhost:8080/"
        },
        "id": "Vvi0ATHFvfaG",
        "outputId": "10ee742f-4f95-4cc7-b20c-f6db55346535"
      },
      "execution_count": 50,
      "outputs": [
        {
          "output_type": "stream",
          "name": "stdout",
          "text": [
            "請輸入您的身高(cm):180\n",
            "請輸入您的體重(kg):80\n",
            "身高 180 公分, 體重 80 公斤, BMI值為: 24.691358024691358\n"
          ]
        }
      ]
    }
  ]
}